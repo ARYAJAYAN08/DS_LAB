{
  "nbformat": 4,
  "nbformat_minor": 0,
  "metadata": {
    "colab": {
      "name": "Exercise4.ipynb",
      "provenance": [],
      "collapsed_sections": []
    },
    "kernelspec": {
      "name": "python3",
      "display_name": "Python 3"
    },
    "language_info": {
      "name": "python"
    }
  },
  "cells": [
    {
      "cell_type": "markdown",
      "source": [
        "#1 List to series conversion"
      ],
      "metadata": {
        "id": "CG3Q66Ne9kLe"
      }
    },
    {
      "cell_type": "code",
      "execution_count": 38,
      "metadata": {
        "colab": {
          "base_uri": "https://localhost:8080/"
        },
        "id": "AcFpoCIO9C7v",
        "outputId": "e9d50c83-d4b3-40a9-fb61-993ce137e2dd"
      },
      "outputs": [
        {
          "output_type": "stream",
          "name": "stdout",
          "text": [
            "a    100\n",
            "b    200\n",
            "c    300\n",
            "d    400\n",
            "e    500\n",
            "dtype: int64\n"
          ]
        }
      ],
      "source": [
        "import pandas as pd\n",
        "import numpy as np\n",
        "s=pd.Series([100,200,300,400,500],index=['a','b','c','d','e'])\n",
        "print(s)"
      ]
    },
    {
      "cell_type": "markdown",
      "source": [
        "#2 Generate series of dates from 1st may 2021 to 12th may 2021"
      ],
      "metadata": {
        "id": "1fQJi745-NKD"
      }
    },
    {
      "cell_type": "code",
      "source": [
        "dates=pd.date_range(start='05-01-2021',end='05-12-2021')\n",
        "print(dates)"
      ],
      "metadata": {
        "colab": {
          "base_uri": "https://localhost:8080/"
        },
        "id": "t0hz0MPI-MY0",
        "outputId": "e2311bcf-b8c2-435a-981b-aa3e814f7653"
      },
      "execution_count": 4,
      "outputs": [
        {
          "output_type": "stream",
          "name": "stdout",
          "text": [
            "DatetimeIndex(['2021-05-01', '2021-05-02', '2021-05-03', '2021-05-04',\n",
            "               '2021-05-05', '2021-05-06', '2021-05-07', '2021-05-08',\n",
            "               '2021-05-09', '2021-05-10', '2021-05-11', '2021-05-12'],\n",
            "              dtype='datetime64[ns]', freq='D')\n"
          ]
        }
      ]
    },
    {
      "cell_type": "markdown",
      "source": [
        "#3 Convert dictionary to dataframe"
      ],
      "metadata": {
        "id": "QOuEGc69ELqP"
      }
    },
    {
      "cell_type": "code",
      "source": [
        "dictionary={'Name':['Arya','Sreeja','Reshma'],'Place':['Trivandrum','Kollam','Pathanamthitta'],'Course':['MCA','CS','EEE']}\n",
        "df=pd.DataFrame(dictionary)\n",
        "print(df)"
      ],
      "metadata": {
        "id": "bUbEGffEEZtc",
        "colab": {
          "base_uri": "https://localhost:8080/"
        },
        "outputId": "d7701e93-00ad-4136-9e6c-9927fba63828"
      },
      "execution_count": 8,
      "outputs": [
        {
          "output_type": "stream",
          "name": "stdout",
          "text": [
            "     Name           Place Course\n",
            "0    Arya      Trivandrum    MCA\n",
            "1  Sreeja          Kollam     CS\n",
            "2  Reshma  Pathanamthitta    EEE\n"
          ]
        }
      ]
    },
    {
      "cell_type": "markdown",
      "source": [
        "#4 Convert 2D list to dataframe"
      ],
      "metadata": {
        "id": "dUpwfrfMUYGb"
      }
    },
    {
      "cell_type": "code",
      "source": [
        "data=[['Arya',22,'Female','MCA'],['Sreeja','27','Female','CS'],['Reshma',24,'Female','EEE'],['Kavya',20,'Female','Mech']]\n",
        "df=pd.DataFrame.from_records(data)\n",
        "print(df)"
      ],
      "metadata": {
        "colab": {
          "base_uri": "https://localhost:8080/"
        },
        "id": "06rX811bUOIb",
        "outputId": "074cfc4a-adad-4bda-b624-3f254ee05727"
      },
      "execution_count": 9,
      "outputs": [
        {
          "output_type": "stream",
          "name": "stdout",
          "text": [
            "        0   1       2     3\n",
            "0    Arya  22  Female   MCA\n",
            "1  Sreeja  27  Female    CS\n",
            "2  Reshma  24  Female   EEE\n",
            "3   Kavya  20  Female  Mech\n"
          ]
        }
      ]
    },
    {
      "cell_type": "markdown",
      "source": [
        "#5 Read a csv file to a dataframe"
      ],
      "metadata": {
        "id": "VFNQcEQLVtMx"
      }
    },
    {
      "cell_type": "code",
      "source": [
        "df=pd.read_csv('sample.csv')\n",
        "print(df)"
      ],
      "metadata": {
        "colab": {
          "base_uri": "https://localhost:8080/",
          "height": 417
        },
        "id": "XIa5VgggVqVW",
        "outputId": "47aedef5-5a7c-4a88-94a7-d887f087c6d4"
      },
      "execution_count": 17,
      "outputs": [
        {
          "output_type": "error",
          "ename": "FileNotFoundError",
          "evalue": "ignored",
          "traceback": [
            "\u001b[0;31m---------------------------------------------------------------------------\u001b[0m",
            "\u001b[0;31mFileNotFoundError\u001b[0m                         Traceback (most recent call last)",
            "\u001b[0;32m<ipython-input-17-3538109dcfe3>\u001b[0m in \u001b[0;36m<module>\u001b[0;34m()\u001b[0m\n\u001b[0;32m----> 1\u001b[0;31m \u001b[0mdf\u001b[0m\u001b[0;34m=\u001b[0m\u001b[0mpd\u001b[0m\u001b[0;34m.\u001b[0m\u001b[0mread_csv\u001b[0m\u001b[0;34m(\u001b[0m\u001b[0;34m'sample.csv'\u001b[0m\u001b[0;34m)\u001b[0m\u001b[0;34m\u001b[0m\u001b[0;34m\u001b[0m\u001b[0m\n\u001b[0m\u001b[1;32m      2\u001b[0m \u001b[0mprint\u001b[0m\u001b[0;34m(\u001b[0m\u001b[0mdf\u001b[0m\u001b[0;34m)\u001b[0m\u001b[0;34m\u001b[0m\u001b[0;34m\u001b[0m\u001b[0m\n",
            "\u001b[0;32m/usr/local/lib/python3.7/dist-packages/pandas/io/parsers.py\u001b[0m in \u001b[0;36mread_csv\u001b[0;34m(filepath_or_buffer, sep, delimiter, header, names, index_col, usecols, squeeze, prefix, mangle_dupe_cols, dtype, engine, converters, true_values, false_values, skipinitialspace, skiprows, skipfooter, nrows, na_values, keep_default_na, na_filter, verbose, skip_blank_lines, parse_dates, infer_datetime_format, keep_date_col, date_parser, dayfirst, cache_dates, iterator, chunksize, compression, thousands, decimal, lineterminator, quotechar, quoting, doublequote, escapechar, comment, encoding, dialect, error_bad_lines, warn_bad_lines, delim_whitespace, low_memory, memory_map, float_precision)\u001b[0m\n\u001b[1;32m    686\u001b[0m     )\n\u001b[1;32m    687\u001b[0m \u001b[0;34m\u001b[0m\u001b[0m\n\u001b[0;32m--> 688\u001b[0;31m     \u001b[0;32mreturn\u001b[0m \u001b[0m_read\u001b[0m\u001b[0;34m(\u001b[0m\u001b[0mfilepath_or_buffer\u001b[0m\u001b[0;34m,\u001b[0m \u001b[0mkwds\u001b[0m\u001b[0;34m)\u001b[0m\u001b[0;34m\u001b[0m\u001b[0;34m\u001b[0m\u001b[0m\n\u001b[0m\u001b[1;32m    689\u001b[0m \u001b[0;34m\u001b[0m\u001b[0m\n\u001b[1;32m    690\u001b[0m \u001b[0;34m\u001b[0m\u001b[0m\n",
            "\u001b[0;32m/usr/local/lib/python3.7/dist-packages/pandas/io/parsers.py\u001b[0m in \u001b[0;36m_read\u001b[0;34m(filepath_or_buffer, kwds)\u001b[0m\n\u001b[1;32m    452\u001b[0m \u001b[0;34m\u001b[0m\u001b[0m\n\u001b[1;32m    453\u001b[0m     \u001b[0;31m# Create the parser.\u001b[0m\u001b[0;34m\u001b[0m\u001b[0;34m\u001b[0m\u001b[0;34m\u001b[0m\u001b[0m\n\u001b[0;32m--> 454\u001b[0;31m     \u001b[0mparser\u001b[0m \u001b[0;34m=\u001b[0m \u001b[0mTextFileReader\u001b[0m\u001b[0;34m(\u001b[0m\u001b[0mfp_or_buf\u001b[0m\u001b[0;34m,\u001b[0m \u001b[0;34m**\u001b[0m\u001b[0mkwds\u001b[0m\u001b[0;34m)\u001b[0m\u001b[0;34m\u001b[0m\u001b[0;34m\u001b[0m\u001b[0m\n\u001b[0m\u001b[1;32m    455\u001b[0m \u001b[0;34m\u001b[0m\u001b[0m\n\u001b[1;32m    456\u001b[0m     \u001b[0;32mif\u001b[0m \u001b[0mchunksize\u001b[0m \u001b[0;32mor\u001b[0m \u001b[0miterator\u001b[0m\u001b[0;34m:\u001b[0m\u001b[0;34m\u001b[0m\u001b[0;34m\u001b[0m\u001b[0m\n",
            "\u001b[0;32m/usr/local/lib/python3.7/dist-packages/pandas/io/parsers.py\u001b[0m in \u001b[0;36m__init__\u001b[0;34m(self, f, engine, **kwds)\u001b[0m\n\u001b[1;32m    946\u001b[0m             \u001b[0mself\u001b[0m\u001b[0;34m.\u001b[0m\u001b[0moptions\u001b[0m\u001b[0;34m[\u001b[0m\u001b[0;34m\"has_index_names\"\u001b[0m\u001b[0;34m]\u001b[0m \u001b[0;34m=\u001b[0m \u001b[0mkwds\u001b[0m\u001b[0;34m[\u001b[0m\u001b[0;34m\"has_index_names\"\u001b[0m\u001b[0;34m]\u001b[0m\u001b[0;34m\u001b[0m\u001b[0;34m\u001b[0m\u001b[0m\n\u001b[1;32m    947\u001b[0m \u001b[0;34m\u001b[0m\u001b[0m\n\u001b[0;32m--> 948\u001b[0;31m         \u001b[0mself\u001b[0m\u001b[0;34m.\u001b[0m\u001b[0m_make_engine\u001b[0m\u001b[0;34m(\u001b[0m\u001b[0mself\u001b[0m\u001b[0;34m.\u001b[0m\u001b[0mengine\u001b[0m\u001b[0;34m)\u001b[0m\u001b[0;34m\u001b[0m\u001b[0;34m\u001b[0m\u001b[0m\n\u001b[0m\u001b[1;32m    949\u001b[0m \u001b[0;34m\u001b[0m\u001b[0m\n\u001b[1;32m    950\u001b[0m     \u001b[0;32mdef\u001b[0m \u001b[0mclose\u001b[0m\u001b[0;34m(\u001b[0m\u001b[0mself\u001b[0m\u001b[0;34m)\u001b[0m\u001b[0;34m:\u001b[0m\u001b[0;34m\u001b[0m\u001b[0;34m\u001b[0m\u001b[0m\n",
            "\u001b[0;32m/usr/local/lib/python3.7/dist-packages/pandas/io/parsers.py\u001b[0m in \u001b[0;36m_make_engine\u001b[0;34m(self, engine)\u001b[0m\n\u001b[1;32m   1178\u001b[0m     \u001b[0;32mdef\u001b[0m \u001b[0m_make_engine\u001b[0m\u001b[0;34m(\u001b[0m\u001b[0mself\u001b[0m\u001b[0;34m,\u001b[0m \u001b[0mengine\u001b[0m\u001b[0;34m=\u001b[0m\u001b[0;34m\"c\"\u001b[0m\u001b[0;34m)\u001b[0m\u001b[0;34m:\u001b[0m\u001b[0;34m\u001b[0m\u001b[0;34m\u001b[0m\u001b[0m\n\u001b[1;32m   1179\u001b[0m         \u001b[0;32mif\u001b[0m \u001b[0mengine\u001b[0m \u001b[0;34m==\u001b[0m \u001b[0;34m\"c\"\u001b[0m\u001b[0;34m:\u001b[0m\u001b[0;34m\u001b[0m\u001b[0;34m\u001b[0m\u001b[0m\n\u001b[0;32m-> 1180\u001b[0;31m             \u001b[0mself\u001b[0m\u001b[0;34m.\u001b[0m\u001b[0m_engine\u001b[0m \u001b[0;34m=\u001b[0m \u001b[0mCParserWrapper\u001b[0m\u001b[0;34m(\u001b[0m\u001b[0mself\u001b[0m\u001b[0;34m.\u001b[0m\u001b[0mf\u001b[0m\u001b[0;34m,\u001b[0m \u001b[0;34m**\u001b[0m\u001b[0mself\u001b[0m\u001b[0;34m.\u001b[0m\u001b[0moptions\u001b[0m\u001b[0;34m)\u001b[0m\u001b[0;34m\u001b[0m\u001b[0;34m\u001b[0m\u001b[0m\n\u001b[0m\u001b[1;32m   1181\u001b[0m         \u001b[0;32melse\u001b[0m\u001b[0;34m:\u001b[0m\u001b[0;34m\u001b[0m\u001b[0;34m\u001b[0m\u001b[0m\n\u001b[1;32m   1182\u001b[0m             \u001b[0;32mif\u001b[0m \u001b[0mengine\u001b[0m \u001b[0;34m==\u001b[0m \u001b[0;34m\"python\"\u001b[0m\u001b[0;34m:\u001b[0m\u001b[0;34m\u001b[0m\u001b[0;34m\u001b[0m\u001b[0m\n",
            "\u001b[0;32m/usr/local/lib/python3.7/dist-packages/pandas/io/parsers.py\u001b[0m in \u001b[0;36m__init__\u001b[0;34m(self, src, **kwds)\u001b[0m\n\u001b[1;32m   2008\u001b[0m         \u001b[0mkwds\u001b[0m\u001b[0;34m[\u001b[0m\u001b[0;34m\"usecols\"\u001b[0m\u001b[0;34m]\u001b[0m \u001b[0;34m=\u001b[0m \u001b[0mself\u001b[0m\u001b[0;34m.\u001b[0m\u001b[0musecols\u001b[0m\u001b[0;34m\u001b[0m\u001b[0;34m\u001b[0m\u001b[0m\n\u001b[1;32m   2009\u001b[0m \u001b[0;34m\u001b[0m\u001b[0m\n\u001b[0;32m-> 2010\u001b[0;31m         \u001b[0mself\u001b[0m\u001b[0;34m.\u001b[0m\u001b[0m_reader\u001b[0m \u001b[0;34m=\u001b[0m \u001b[0mparsers\u001b[0m\u001b[0;34m.\u001b[0m\u001b[0mTextReader\u001b[0m\u001b[0;34m(\u001b[0m\u001b[0msrc\u001b[0m\u001b[0;34m,\u001b[0m \u001b[0;34m**\u001b[0m\u001b[0mkwds\u001b[0m\u001b[0;34m)\u001b[0m\u001b[0;34m\u001b[0m\u001b[0;34m\u001b[0m\u001b[0m\n\u001b[0m\u001b[1;32m   2011\u001b[0m         \u001b[0mself\u001b[0m\u001b[0;34m.\u001b[0m\u001b[0munnamed_cols\u001b[0m \u001b[0;34m=\u001b[0m \u001b[0mself\u001b[0m\u001b[0;34m.\u001b[0m\u001b[0m_reader\u001b[0m\u001b[0;34m.\u001b[0m\u001b[0munnamed_cols\u001b[0m\u001b[0;34m\u001b[0m\u001b[0;34m\u001b[0m\u001b[0m\n\u001b[1;32m   2012\u001b[0m \u001b[0;34m\u001b[0m\u001b[0m\n",
            "\u001b[0;32mpandas/_libs/parsers.pyx\u001b[0m in \u001b[0;36mpandas._libs.parsers.TextReader.__cinit__\u001b[0;34m()\u001b[0m\n",
            "\u001b[0;32mpandas/_libs/parsers.pyx\u001b[0m in \u001b[0;36mpandas._libs.parsers.TextReader._setup_parser_source\u001b[0;34m()\u001b[0m\n",
            "\u001b[0;31mFileNotFoundError\u001b[0m: [Errno 2] No such file or directory: 'sample.csv'"
          ]
        }
      ]
    },
    {
      "cell_type": "markdown",
      "source": [
        "#6 Sort a dataframe by multiple columns"
      ],
      "metadata": {
        "id": "64iTJx8bauBw"
      }
    },
    {
      "cell_type": "code",
      "source": [
        "details={'RollNo':[23,41,33,37],'Name':['Arya','Sreeja','Harishma','Meenu'],'Marks':[90,80,100,88]}\n",
        "dataframe=pd.DataFrame(details)\n",
        "print(dataframe)\n",
        "print(\"\\n\\nSorted DataFrame\\n\\n\")\n",
        "print(dataframe.sort_values(by=['RollNo'],ascending=True))"
      ],
      "metadata": {
        "colab": {
          "base_uri": "https://localhost:8080/"
        },
        "id": "sR-I1qX4XjOr",
        "outputId": "c0cf0be6-4a75-4e0a-e859-a513d2b8b9bf"
      },
      "execution_count": 20,
      "outputs": [
        {
          "output_type": "stream",
          "name": "stdout",
          "text": [
            "   RollNo      Name  Marks\n",
            "0      23      Arya     90\n",
            "1      41    Sreeja     80\n",
            "2      33  Harishma    100\n",
            "3      37     Meenu     88\n",
            "\n",
            "\n",
            "Sorted DataFrame\n",
            "\n",
            "\n",
            "   RollNo      Name  Marks\n",
            "0      23      Arya     90\n",
            "2      33  Harishma    100\n",
            "3      37     Meenu     88\n",
            "1      41    Sreeja     80\n"
          ]
        }
      ]
    },
    {
      "cell_type": "markdown",
      "source": [
        "#7 Convert a dataframe with custom indexing to default indexing"
      ],
      "metadata": {
        "id": "rUfOmOYycAa4"
      }
    },
    {
      "cell_type": "code",
      "source": [
        "details={'RollNo':[23,41,33,37],'Name':['Arya','Sreeja','Harishma','Meenu'],'Marks':[90,80,100,88]}\n",
        "index={'I','II','III','IV'}\n",
        "df=pd.DataFrame(details,index)\n",
        "df.reset_index(inplace=True)\n",
        "print(df)"
      ],
      "metadata": {
        "colab": {
          "base_uri": "https://localhost:8080/"
        },
        "id": "cRyzLei8bzcS",
        "outputId": "8e651242-993d-4425-9ffe-6fd84468db08"
      },
      "execution_count": 30,
      "outputs": [
        {
          "output_type": "stream",
          "name": "stdout",
          "text": [
            "  index  RollNo      Name  Marks\n",
            "0     I      23      Arya     90\n",
            "1   III      41    Sreeja     80\n",
            "2    II      33  Harishma    100\n",
            "3    IV      37     Meenu     88\n"
          ]
        }
      ]
    },
    {
      "cell_type": "markdown",
      "source": [
        "#8 Select first two rows of a dataframe"
      ],
      "metadata": {
        "id": "vV1H3I7PfPbY"
      }
    },
    {
      "cell_type": "code",
      "source": [
        "details={'RollNo':[23,41,33,37],'Name':['Arya','Sreeja','Harishma','Meenu'],'Marks':[90,80,100,88]}\n",
        "df=pd.DataFrame(details)\n",
        "print(df.head(2))"
      ],
      "metadata": {
        "colab": {
          "base_uri": "https://localhost:8080/"
        },
        "id": "_u_k64XjckGk",
        "outputId": "133b9feb-d9cf-4443-d7fb-aaeac85411d7"
      },
      "execution_count": 31,
      "outputs": [
        {
          "output_type": "stream",
          "name": "stdout",
          "text": [
            "   RollNo    Name  Marks\n",
            "0      23    Arya     90\n",
            "1      41  Sreeja     80\n"
          ]
        }
      ]
    },
    {
      "cell_type": "markdown",
      "source": [
        "#9 Find the average salary per occupation from dataframe showing name,occupation and salary of people"
      ],
      "metadata": {
        "id": "SuYnxaXVfja7"
      }
    },
    {
      "cell_type": "code",
      "source": [
        "data={'Name':['Reshma','Lakshmi','Ram','Lakshman'],'Occupation':['Teacher','Doctor','Engineer','Doctor'],'Salary':[20000,50000,40000,80000]}\n",
        "df=pd.DataFrame(data)\n",
        "print(df)\n",
        "print(\"\\n\\n\")\n",
        "sal_avg=df.groupby('Occupation')['Salary'].mean()\n",
        "print(sal_avg)"
      ],
      "metadata": {
        "colab": {
          "base_uri": "https://localhost:8080/"
        },
        "id": "AoTStuqEfhTR",
        "outputId": "d4bcece5-bedb-456d-d2c2-ae2ec96d18e8"
      },
      "execution_count": 37,
      "outputs": [
        {
          "output_type": "stream",
          "name": "stdout",
          "text": [
            "       Name Occupation  Salary\n",
            "0    Reshma    Teacher   20000\n",
            "1   Lakshmi     Doctor   50000\n",
            "2       Ram   Engineer   40000\n",
            "3  Lakshman     Doctor   80000\n",
            "\n",
            "\n",
            "\n",
            "Occupation\n",
            "Doctor      65000\n",
            "Engineer    40000\n",
            "Teacher     20000\n",
            "Name: Salary, dtype: int64\n"
          ]
        }
      ]
    },
    {
      "cell_type": "markdown",
      "source": [
        "#10 Fill the NaN values with 0 in the given"
      ],
      "metadata": {
        "id": "JqEnRkzWhXn8"
      }
    },
    {
      "cell_type": "code",
      "source": [
        "data={'RollNo':[23,33,37,41],'Name':['Arya','Harishma','Meenu','Sreeja'],'Marks':[np.nan,80,np.nan,90]}\n",
        "df=pd.DataFrame(data)\n",
        "print(df)\n",
        "df_nullfill=df.fillna(0)\n",
        "print(\"\\n\\n\")\n",
        "print(df_nullfill)"
      ],
      "metadata": {
        "colab": {
          "base_uri": "https://localhost:8080/"
        },
        "id": "qYmfyL03gjdk",
        "outputId": "e87d78be-5a57-43de-d693-b9cdd535ea75"
      },
      "execution_count": 39,
      "outputs": [
        {
          "output_type": "stream",
          "name": "stdout",
          "text": [
            "   RollNo      Name  Marks\n",
            "0      23      Arya    NaN\n",
            "1      33  Harishma   80.0\n",
            "2      37     Meenu    NaN\n",
            "3      41    Sreeja   90.0\n",
            "\n",
            "\n",
            "\n",
            "   RollNo      Name  Marks\n",
            "0      23      Arya    0.0\n",
            "1      33  Harishma   80.0\n",
            "2      37     Meenu    0.0\n",
            "3      41    Sreeja   90.0\n"
          ]
        }
      ]
    },
    {
      "cell_type": "markdown",
      "source": [
        "#11 Convert the values of profit column from the given dataframe such that the values in it greater than 0 are set to True and the rest are set to False"
      ],
      "metadata": {
        "id": "yQQVh1vZiYUy"
      }
    },
    {
      "cell_type": "code",
      "source": [
        "data={'cname':['Wipro','CTS','TCS','UST'],'profit':[1000000,200000,-311000,-230000]}\n",
        "df=pd.DataFrame(data)\n",
        "print('\\n\\n')\n",
        "df['profit']=df['profit'].apply(lambda x:x>0)\n",
        "print(df)"
      ],
      "metadata": {
        "colab": {
          "base_uri": "https://localhost:8080/"
        },
        "id": "Lg3SRP_YhS_y",
        "outputId": "6b877b3f-9364-4621-ac99-14973dce318d"
      },
      "execution_count": 55,
      "outputs": [
        {
          "output_type": "stream",
          "name": "stdout",
          "text": [
            "\n",
            "\n",
            "\n",
            "   cname  profit\n",
            "0  Wipro    True\n",
            "1    CTS    True\n",
            "2    TCS   False\n",
            "3    UST   False\n"
          ]
        }
      ]
    },
    {
      "cell_type": "markdown",
      "source": [
        "#12 Output the dataframe containing employee id(eid),employee name(ename),stipend(stipend) and position(position) from the two dataframes given"
      ],
      "metadata": {
        "id": "Ppbmu3IIpbiR"
      }
    },
    {
      "cell_type": "code",
      "source": [
        "data1={'eid':[1001,1002,1003,1004],'ename':['Arya','Sreeja','Malu','Aparna'],'stipend':[10000,20000,30000,15000]}\n",
        "data2={'eid':[1001,1002,1003,1004],'position':['Senior Manager','Clerk','General Manager','Sales Manager']}\n",
        "df1=pd.DataFrame(data1)\n",
        "df2=pd.DataFrame(data2)\n",
        "print(df1)\n",
        "print(\"\\n\\n\",df2)\n",
        "dataframe=pd.merge(df1,df2,how='inner',on='eid')\n",
        "print(\"\\n\\n\",dataframe)"
      ],
      "metadata": {
        "colab": {
          "base_uri": "https://localhost:8080/"
        },
        "id": "G235PRjXjeiL",
        "outputId": "68a134eb-6228-4191-8d09-ca7d5deab1ba"
      },
      "execution_count": 59,
      "outputs": [
        {
          "output_type": "stream",
          "name": "stdout",
          "text": [
            "    eid   ename  stipend\n",
            "0  1001    Arya    10000\n",
            "1  1002  Sreeja    20000\n",
            "2  1003    Malu    30000\n",
            "3  1004  Aparna    15000\n",
            "\n",
            "\n",
            "     eid         position\n",
            "0  1001   Senior Manager\n",
            "1  1002            Clerk\n",
            "2  1003  General Manager\n",
            "3  1004    Sales Manager\n",
            "\n",
            "\n",
            "     eid   ename  stipend         position\n",
            "0  1001    Arya    10000   Senior Manager\n",
            "1  1002  Sreeja    20000            Clerk\n",
            "2  1003    Malu    30000  General Manager\n",
            "3  1004  Aparna    15000    Sales Manager\n"
          ]
        }
      ]
    },
    {
      "cell_type": "code",
      "source": [
        ""
      ],
      "metadata": {
        "id": "bIdSy1jGlB22"
      },
      "execution_count": null,
      "outputs": []
    }
  ]
}